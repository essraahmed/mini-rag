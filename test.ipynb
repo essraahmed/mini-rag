{
 "cells": [
  {
   "cell_type": "markdown",
   "id": "3a71f70f",
   "metadata": {},
   "source": [
    "bnst5dem uvicorn 3shan a5ly fastapi run as a server </br>\n",
    "env: mini-rag"
   ]
  },
  {
   "cell_type": "markdown",
   "id": "98667940",
   "metadata": {},
   "source": [
    "base.py: feh routs, fslthom 3n main"
   ]
  },
  {
   "cell_type": "markdown",
   "id": "1d8e6807",
   "metadata": {},
   "source": [
    "lw 3ayez api yrod b app_name and app_version elly fe .env ast5dem dotenv, byrg3 elly fe .env </br>\n",
    "hn5ot import fe main 3shan kolo yshofo"
   ]
  },
  {
   "cell_type": "markdown",
   "id": "9dbfbed4",
   "metadata": {},
   "source": [
    "sync: 3shan afdl m3a fastapi, w 3shan lw fe aktr mn request m3a uvicorn y3rf handle kwayes, better perfprmnance"
   ]
  },
  {
   "cell_type": "markdown",
   "id": "6a0cf9c0",
   "metadata": {},
   "source": [
    "boilerplate: hgm3 kol logic files fe file esmo source, ba2y htb2a elly bt3rf 3n mashro3"
   ]
  },
  {
   "cell_type": "markdown",
   "id": "ecdbe7b5",
   "metadata": {},
   "source": [
    "yofdl n mafesh 3mlyat tt3ml fe route func(welcome), nfesl logic 3n route"
   ]
  },
  {
   "cell_type": "markdown",
   "id": "fb54cbcf",
   "metadata": {},
   "source": [
    "MVC: Models, Vies, and controllrs, models: data mn db, control: logic, view: 7aga btt3rd </br>\n",
    "we only need models and controller"
   ]
  },
  {
   "cell_type": "markdown",
   "id": "45dfe5e5",
   "metadata": {},
   "source": [
    "pydantic: w ana load data atked mn list w int, ka2eny b3ml validaion"
   ]
  },
  {
   "cell_type": "markdown",
   "id": "6ba1aa07",
   "metadata": {},
   "source": [
    "in config.py = class setting u=inherit from base setting"
   ]
  },
  {
   "cell_type": "markdown",
   "id": "db4fd06c",
   "metadata": {},
   "source": [
    "depends: 3shan lw 7sal ay moshkla eno yrg3 data mn config, byt2ked mn 7aaga zy kda, more efficient"
   ]
  },
  {
   "cell_type": "markdown",
   "id": "30f63391",
   "metadata": {},
   "source": [
    "app_settings:settings, no3o settings , haro7 3la class nfso ashof how 3bara 3n eh (ex: str, boolean)"
   ]
  },
  {
   "cell_type": "markdown",
   "id": "d1ac1125",
   "metadata": {},
   "source": [
    "@data_router.post(\"/upload\"): end point named upload, btst2bl file w trf3o 3la sys </br>\n",
    "kol mara upload hadeh value mo3yna y7ot feha files de, esmha tenant (Multi tenant) </br>\n",
    "Each tenant has its own data (e.g., users, settings).\n",
    "In multi-tenant systems, all tenants share the same codebase, but their data is kept separate. </br>\n",
    "{project_id}:  kol project hykon lh id mo5tlef w files mo5tlfa </br>\n",
    "file : UploadFile, fe param hygelek esmo file mn no3 upload file"
   ]
  },
  {
   "cell_type": "markdown",
   "id": "4492543a",
   "metadata": {},
   "source": [
    "async def upload_file: h7tag a7ot ma3ayer (validation) ll files elly upload, size of file, type of file, etc. hn7otha fe .env (FILE_ALLOWED_EXTENSIONS = [\"text/plain\", \"application/pdf\"]) </br>\n",
    "w bt2ked n data fe .env_example bardo"
   ]
  },
  {
   "cell_type": "markdown",
   "id": "0a079944",
   "metadata": {},
   "source": []
  },
  {
   "cell_type": "markdown",
   "id": "d580c723",
   "metadata": {},
   "source": []
  }
 ],
 "metadata": {
  "language_info": {
   "name": "python"
  }
 },
 "nbformat": 4,
 "nbformat_minor": 5
}
