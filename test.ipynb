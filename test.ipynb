<<<<<<< HEAD
{
 "cells": [
  {
   "cell_type": "markdown",
   "id": "3a71f70f",
   "metadata": {},
   "source": [
    "bnst5dem uvicorn 3shan a5ly fastapi run as a server </br>\n",
    "env: mini-rag"
   ]
  },
  {
   "cell_type": "markdown",
   "id": "98667940",
   "metadata": {},
   "source": [
    "base.py: feh routs, fslthom 3n main"
   ]
  },
  {
   "cell_type": "markdown",
   "id": "1d8e6807",
   "metadata": {},
   "source": [
    "lw 3ayez api yrod b app_name and app_version elly fe .env ast5dem dotenv, byrg3 elly fe .env </br>\n",
    "hn5ot import fe main 3shan kolo yshofo"
   ]
  },
  {
   "cell_type": "markdown",
   "id": "9dbfbed4",
   "metadata": {},
   "source": [
    "sync: 3shan afdl m3a fastapi, w 3shan lw fe aktr mn request m3a uvicorn y3rf handle kwayes, better perfprmnance"
   ]
  },
  {
   "cell_type": "markdown",
   "id": "6a0cf9c0",
   "metadata": {},
   "source": [
    "boilerplate: hgm3 kol logic files fe file esmo source, ba2y htb2a elly bt3rf 3n mashro3"
   ]
  },
  {
   "cell_type": "code",
   "execution_count": null,
   "id": "be5e3fe8",
   "metadata": {
    "vscode": {
     "languageId": "plaintext"
    }
   },
   "outputs": [],
   "source": []
  },
  {
   "cell_type": "code",
   "execution_count": null,
   "id": "349f4fab",
   "metadata": {
    "vscode": {
     "languageId": "plaintext"
    }
   },
   "outputs": [],
   "source": []
  },
  {
   "cell_type": "code",
   "execution_count": null,
   "id": "6e5d4dc5",
   "metadata": {
    "vscode": {
     "languageId": "plaintext"
    }
   },
   "outputs": [],
   "source": []
  }
 ],
 "metadata": {
  "language_info": {
   "name": "python"
  }
 },
 "nbformat": 4,
 "nbformat_minor": 5
}
=======

>>>>>>> 49a88d37e2bad89fd02c1da019e95ed0c4d1f923
